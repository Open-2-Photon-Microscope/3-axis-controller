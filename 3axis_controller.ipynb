{
 "cells": [
  {
   "cell_type": "code",
   "execution_count": 2,
   "id": "1940327f-5fa2-40cd-a119-02eae334a0e0",
   "metadata": {},
   "outputs": [
    {
     "name": "stdout",
     "output_type": "stream",
     "text": [
      "esptool not found on path\n"
     ]
    }
   ],
   "source": [
    "%esptool --port COM5 erase"
   ]
  },
  {
   "cell_type": "code",
   "execution_count": null,
   "id": "3fa46115-0717-47f6-bbaf-a2b4f01cd6a2",
   "metadata": {},
   "outputs": [],
   "source": []
  }
 ],
 "metadata": {
  "kernelspec": {
   "display_name": "MicroPython - USB",
   "language": "micropython",
   "name": "micropython"
  },
  "language_info": {
   "codemirror_mode": "python",
   "file_extension": ".py",
   "mimetype": "text/python",
   "name": "micropython"
  }
 },
 "nbformat": 4,
 "nbformat_minor": 5
}
