{
 "cells": [
  {
   "cell_type": "code",
   "execution_count": 5,
   "id": "e4d308e1-5547-4f1c-a736-5c686e85a8dd",
   "metadata": {},
   "outputs": [
    {
     "name": "stdout",
     "output_type": "stream",
     "text": [
      "esptool not found on path\n",
      "esptool not found on path\n"
     ]
    }
   ],
   "source": [
    "#%esptool erase --port=COM5 --baud=460800\n",
    "#%esptool --port=COM5 --baud=460800 esp32 \"C:\\Users\\Admin\\Documents\\GitHub\\3-axis-controller\\esp32\\esp32-2022618-v1.19.1.bin\""
   ]
  },
  {
   "cell_type": "code",
   "execution_count": 1,
   "id": "9d6be8ef-4fb7-4a7f-9039-7c5dc44044fd",
   "metadata": {},
   "outputs": [
    {
     "name": "stdout",
     "output_type": "stream",
     "text": [
      "\u001b[34mConnecting to --port=COM5 --baud=115200 \u001b[0m\n",
      "MicroPython v1.19.1 on 2022-06-18; ESP32 module with ESP32\n",
      "Type \"help()\" for more information.\n",
      ">>>[reboot detected 0]repl is in normal command mode\n",
      "[\\r\\x03\\x03] b'\\r\\n>>> '\n",
      "[\\r\\x01] b'\\r\\n>>> \\r\\nraw REPL; CTRL-B to exit\\r\\n>' \u001b[34mReady.\n",
      "\u001b[0m"
     ]
    }
   ],
   "source": [
    "%serialconnect to --port COM5 --baud=115200"
   ]
  },
  {
   "cell_type": "code",
   "execution_count": 2,
   "id": "cd3d355f-5d57-48e1-94c1-b547f0ac62c4",
   "metadata": {},
   "outputs": [],
   "source": [
    "from machine import Pin\n",
    "from time import sleep"
   ]
  },
  {
   "cell_type": "code",
   "execution_count": 3,
   "id": "1521cd9e-092c-4994-bf77-e602764b95e9",
   "metadata": {},
   "outputs": [],
   "source": [
    "# PIN ASSIGNMENT FUNCTIONS\n",
    "\n",
    "# function that assigns rotary encoders X, Y and Z channels (REC) to pins\n",
    "def pins_REC(pinA, pinB):\n",
    "    outPinA = Pin(pinA, Pin.IN)\n",
    "    outPinB = Pin(pinB, Pin.IN)\n",
    "    return outPinA, outPinB\n",
    "\n",
    "# functions that assigns motor to pins\n",
    "def pins_motor(pIN1, pIN2, pIN3, pIN4):\n",
    "    IN1 = Pin(pIN1, Pin.OUT)\n",
    "    IN2 = Pin(pIN2, Pin.OUT)\n",
    "    IN3 = Pin(pIN3, Pin.OUT)\n",
    "    IN4 = Pin(pIN4, Pin.OUT)\n",
    "    pins = [IN1, IN2, IN3, IN4]\n",
    "    return pins"
   ]
  },
  {
   "cell_type": "code",
   "execution_count": 4,
   "id": "f3d314aa-d43d-4168-aaf8-59bb8d0b4f28",
   "metadata": {},
   "outputs": [],
   "source": [
    "# MOTOR FUNCTIONS\n",
    "\n",
    "# function that assigns the step sequence\n",
    "def step_sequence(n):\n",
    "    # clockwise sequence\n",
    "    if n > 0:\n",
    "        print('clockwise sequence')\n",
    "        sequence = [[1,0,0,0],[0,1,0,0],[0,0,1,0],[0,0,0,1]]  \n",
    "    # counterclockwise sequence\n",
    "    elif n < 0:\n",
    "        print('counterclockwise sequence')\n",
    "        sequence = [[0,0,0,1],[0,0,1,0],[0,1,0,0],[1,0,0,0]]\n",
    "    # freezing sequence\n",
    "    else:\n",
    "        sequence = [[0,0,0,0],[0,0,0,0],[0,0,0,0],[0,0,0,0]]\n",
    "        print('freezing sequence')\n",
    "    return(sequence)\n",
    "        \n",
    "# function that runs n steps on motor x\n",
    "def run_step(n, motor_x):\n",
    "    sequence = step_sequence(n)\n",
    "    pins = motor_x\n",
    "    for k in range (0, abs(n)):\n",
    "        for step in sequence:\n",
    "            for i in range(len(pins)):\n",
    "                pins[i].value(step[i])\n",
    "                sleep(0.001)\n",
    "    return\n",
    "\n",
    "# function that assigns motor rotations depending on translation axis\n",
    "def mov(vector):\n",
    "    # clockwise\n",
    "    if vector[1]==\"+\":\n",
    "        if vector[0] == \"x\":\n",
    "            run_step(-7, motor_a)\n",
    "            run_step(7, motor_b)\n",
    "        elif vector[0] == \"y\":\n",
    "            run_step(4, motor_c)\n",
    "            run_step(4, motor_b)\n",
    "            run_step(-8, motor_c)\n",
    "        elif vector[0] == \"z\":\n",
    "            run_step(8, motor_a)\n",
    "            run_step(8, motor_b)\n",
    "            run_step(8, motor_c)\n",
    "    # counterclockwise\n",
    "    elif vector[1]==\"-\":\n",
    "        if vector[0] == \"x\":\n",
    "            run_step(7, motor_a)\n",
    "            run_step(-7, motor_b)\n",
    "        elif vector[0] == \"y\":\n",
    "            run_step(-4, motor_a)\n",
    "            run_step(-4, motor_b)\n",
    "            run_step(8, motor_c)\n",
    "        elif vector[0] == \"z\":\n",
    "            run_step(-8, motor_a)\n",
    "            run_step(-8, motor_b)\n",
    "            run_step(-8, motor_c)\n",
    "    return       "
   ]
  },
  {
   "cell_type": "code",
   "execution_count": 5,
   "id": "e2b64f02-3c5e-4f0c-a94c-859dddf57a87",
   "metadata": {},
   "outputs": [],
   "source": [
    "# ROTARY ENCODER FUNCTION\n",
    "\n",
    "# function that translates REC signals into motor rotations\n",
    "def REC_translation(axis, outPinA, outPinB):\n",
    "    oldA = outPinA.value() \n",
    "    oldB = outPinB.value()\n",
    "    sleep(0.005)\n",
    "\n",
    "    vector = axis  \n",
    "    A = outPinA.value()\n",
    "    B = outPinB.value()    \n",
    "    A_state = A-oldA\n",
    "    B_state = B-oldB\n",
    "       \n",
    "        # channel A / clockwise\n",
    "    if  A_state == 1 and B==0:\n",
    "        vector += \"+\"\n",
    "        mov(vector)\n",
    "        # channel B / counterclockwise\n",
    "    elif B_state == 1 and A==0:\n",
    "        vector += \"-\"\n",
    "        mov(vector)\n",
    "    else:\n",
    "        sleep(0.001)\n",
    "     \n",
    "    oldA = A\n",
    "    oldB = B\n",
    "    print('rec translation')\n",
    "    \n",
    "    return"
   ]
  },
  {
   "cell_type": "code",
   "execution_count": 6,
   "id": "9f9a85ce-67a6-48a8-95f5-b001c78a409a",
   "metadata": {},
   "outputs": [
    {
     "name": "stdout",
     "output_type": "stream",
     "text": [
      "\u0000...\u0000\u0000\u0000\u0000\u0000\u0000\u0000\u0000\u0000\u0000\u0000\u0000\u0000\u0000\u0000\u0000\u0000\u0000\u0000\u0000\u0000\u0000\u0000\u0000\u0000\u0000\u0000\u0000\u0000\u0000\u0000\u0000\u0000\u0000\u0000\u0000\u0000\u0000\u0000\u0000\u0000\u0000\u0000\u0000\u0000\u0000\u0000\u0000\u0000\u0000\u0000\u0000\u0000\u0000\u0000\u0000\u0000\u0000\u0000\u0000\u0000\u0000\u0000\u0000\u0000\u0000\u0000\u0000\u0000\u0000\u0000\u0000\u0000\u0000\u0000\u0000\u0000\u0000\u0000\u0000\u0000\u0000\u0000\u0000\u0000\u0000\u0000\u0000\u0000\u0000\u0000\u0000\u0000\u0000\u0000\u0000\u0000\u0000\u0000\u0000\u0000\u0000\u0000\u0000\u0000\u0000\u0000\u0000\u0000\u0000\u0000\u0000\u0000\u0000\u0000\u0000\u0000\u0000\u0000\u0000\u0000\u0000\u0000\u0000\u0000\u0000\u0000\u0000\u0000\u0000\u0000\u0000\u0000\u0000\u0000\u0000\u0000\u0000\u0000\u0000\u0000\u0000\u0000\u0000\u0000\u0000\u0000\u0000\u0000\u0000\u0000\u0000\u0000\u0000\u0000\u0000\u0000\u0000\u0000\u0000\u0000\u0000\u0000\u0000\u0000\u0000\u0000\u0000\u0000\u0000\u0000\u0000\u0000\u0000\u0000\u0000\u0000\u0000\u0000\u0000\u0000\u0000\u0000\u0000\u0000\u0000\u0000\u0000\u0000\u0000\u0000\u0000\u0000\u0000\u0000\u0000\u0000\u0000\u0000\u0000\u0000\u0000\u0000\u0000\u0000\u0000\u0000\u0000\u0000\u0000\u0000\u0000\u0000\u0000\u0000\u0000\u0000\u0000\u0000\u0000\u0000\u0000\u0000\u0000\u0000\u0000\u0000.\u0000\u0000\u0000\u0000\u0000\u0000\u0000\u0000\u0000\u0000\u0000\u0000\u0000\u0000\u0000\u0000\u0000\u0000\u0000\u0000\u0000\u0000\u0000\u0000\u0000\u0000\u0000\u0000\u0000\u0000\u0000\u0000\u0000\u0000\u0000\u0000\u0000\u0000\u0000\u0000\u0000\u0000\u0000\u0000\u0000\u0000\u0000\u0000\u0000\u0000\u0000\u0000\u0000\u0000\u0000\u0000\u0000\u0000\u0000\u0000\u0000\u0000\u0000\u0000\u0000\u0000\u0000\u0000\u0000\u0000\u0000\u0000\u0000\u0000\u0000\u0000\u0000\u0000\u0000\u0000\u0000\u0000\u0000\u0000\u0000\u0000\u0000\u0000\u0000\u0000\u0000\u0000\u0000\u0000\u0000\u0000\u0000\u0000\u0000\u0000\u0000\u0000\u0000\u0000\u0000\u0000\u0000\u0000\u0000\u0000\u0000\u0000\u0000\u0000\u0000\u0000\u0000\u0000\u0000\u0000\u0000\u0000\u0000\u0000\u0000\u0000..............................\u0000\u0000\u0000\u0000\u0000\u0000\u0000\u0000\u0000\u0000\u0000\u0000\u0000\u0000\u0000\u0000\u0000\u0000\u0000\u0000\u0000\u0000\u0000\u0000\u0000\u0000\u0000\u0000\u0000\u0000\u0000\u0000\u0000\u0000\u0000\u0000\u0000\u0000\u0000\u0000\u0000\u0000\u0000\u0000\u0000\u0000\u0000\u0000\u0000\u0000\u0000\u0000\u0000\u0000\u0000\u0000\u0000\u0000\u0000\u0000\u0000\u0000\u0000\u0000\u0000\u0000\u0000\u0000\u0000\u0000\u0000\u0000\u0000\u0000\u0000\u0000\u0000\u0000\u0000\u0000\u0000\u0000\u0000\u0000\u0000\u0000\u0000\u0000\u0000\u0000\u0000\u0000\u0000\u0000\u0000\u0000\u0000\u0000\u0000\u0000\u0000\u0000\u0000\u0000\u0000\u0000\u0000\u0000\u0000\u0000\u0000\u0000\u0000\u0000\u0000\u0000\u0000\u0000\u0000\u0000\u0000\u0000\u0000\u0000\u0000\u0000\u0000\u0000\u0000\u0000\u0000\u0000\u0000\u0000\u0000\u0000\u0000\u0000\u0000\u0000\u0000\u0000\u0000\u0000\u0000\u0000\u0000\u0000\u0000\u0000\u0000\u0000\u0000\u0000\u0000\u0000\u0000\u0000\u0000\u0000\u0000\u0000\u0000\u0000\u0000\u0000\u0000\u0000\u0000\u0000\u0000\u0000\u0000\u0000\u0000\u0000\u0000.\u0000\u0000\u0000\u0000\u0000\u0000\u0000\u0000\u0000\u0000\u0000\u0000\u0000\u0000\u0000\u0000\u0000\u0000\u0000\u0000\u0000\u0000\u0000\u0000\u0000\u0000\u0000\u0000\u0000\u0000\u0000\u0000\u0000\u0000\u0000\u0000\u0000\u0000\u0000\u0000\u0000\u0000\u0000\u0000\u0000\u0000\u0000\u0000\u0000\u0000\u0000\u0000\u0000\u0000\u0000\u0000\u0000\u0000\u0000\u0000\u0000\u0000\u0000\u0000\u0000\u0000\u0000\u0000\u0000\u0000\u0000\u0000\u0000\u0000\u0000\u0000\u0000\u0000\u0000\u0000\u0000\u0000\u0000\u0000\u0000\u0000\u0000\u0000\u0000\u0000\u0000\u0000\u0000\u0000\u0000\u0000\u0000\u0000\u0000\u0000\u0000\u0000\u0000\u0000\u0000\u0000\u0000\u0000\u0000\u0000\u0000\u0000\u0000\u0000\u0000\u0000\u0000\u0000\u0000\u0000\u0000\u0000\u0000\u0000\u0000\u0000\u0000\u0000\u0000\u0000\u0000\u0000\u0000\u0000\u0000\u0000\u0000\u0000\u0000\u0000\u0000\u0000\u0000\u0000\u0000\u0000\u0000\u0000\u0000\u0000\u0000\u0000\u0000\u0000\u0000\u0000\u0000\u0000\u0000\u0000\u0000\u0000\u0000\u0000\u0000\u0000\u0000\u0000\u0000\u0000\u0000\u0000\u0000\u0000.................\u0000\u0000\u0000\u0000\u0000\u0000\u0000\u0000\u0000\u0000\u0000\u0000\u0000\u0000\u0000\u0000\u0000\u0000\u0000\u0000\u0000\u0000\u0000\u0000\u0000\u0000\u0000\u0000\u0000\u0000\u0000\u0000\u0000\u0000\u0000\u0000\u0000\u0000\u0000\u0000\u0000\u0000\u0000\u0000\u0000\u0000\u0000\u0000\u0000\u0000\u0000\u0000\u0000\u0000\u0000\u0000\u0000\u0000\u0000\u0000\u0000\u0000\u0000\u0000\u0000\u0000\u0000\u0000\u0000\u0000\u0000\u0000\u0000\u0000\u0000\u0000\u0000\u0000\u0000\u0000\u0000\u0000\u0000\u0000\u0000\u0000\u0000\u0000\u0000\u0000\u0000\u0000\u0000\u0000\u0000\u0000\u0000\u0000\u0000\u0000\u0000\u0000\u0000\u0000\u0000\u0000\u0000\u0000\u0000\u0000\u0000\u0000\u0000\u0000\u0000\u0000\u0000\u0000\u0000\u0000\u0000\u0000\u0000\u0000\u0000\u0000\u0000\u0000\u0000\u0000\u0000\u0000\u0000\u0000\u0000\u0000\u0000\u0000\u0000\u0000.\n",
      "**[ys] <class 'serial.serialutil.SerialException'>\n",
      "**[ys] ClearCommError failed (PermissionError(13, 'Accès refusé.', None, 5))\n",
      "\n",
      "\n",
      "**[ys] <class 'serial.serialutil.SerialException'>\n",
      "**[ys] ClearCommError failed (PermissionError(13, 'Accès refusé.', None, 5))\n",
      "\n"
     ]
    }
   ],
   "source": [
    "# PROGRAM\n",
    "\n",
    "# assign pins to the 3 rotary encoders channels (REC)\n",
    "xA,xB = pins_REC(15,2)\n",
    "yA,yB = pins_REC(16,17)\n",
    "zA,zB = pins_REC(5,18)\n",
    "\n",
    "# assign pins to the 3 motors\n",
    "motor_a = pins_motor(26, 25, 14, 27)\n",
    "motor_b = pins_motor(22, 23, 21, 19)\n",
    "motor_c = pins_motor(1, 3, 9, 10)\n",
    "\n",
    "# rotary encoders translation\n",
    "while True:\n",
    "    REC_translation(\"x\",xA,xB)\n",
    "    REC_translation(\"y\",yA,yB)\n",
    "    REC_translation(\"z\",zA,zB)\n",
    "    sleep(0.001)\n"
   ]
  },
  {
   "cell_type": "code",
   "execution_count": null,
   "id": "ca6ccdea-1f02-470a-987a-3c30617781a3",
   "metadata": {},
   "outputs": [],
   "source": []
  }
 ],
 "metadata": {
  "kernelspec": {
   "display_name": "MicroPython - USB",
   "language": "micropython",
   "name": "micropython"
  },
  "language_info": {
   "codemirror_mode": "python",
   "file_extension": ".py",
   "mimetype": "text/python",
   "name": "micropython"
  }
 },
 "nbformat": 4,
 "nbformat_minor": 5
}
