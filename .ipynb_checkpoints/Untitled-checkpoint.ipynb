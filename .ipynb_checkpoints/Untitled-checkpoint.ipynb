{
 "cells": [
  {
   "cell_type": "code",
   "execution_count": 1,
   "id": "13206cf2-c156-4321-8a9b-e2cc79f88d26",
   "metadata": {},
   "outputs": [],
   "source": [
    "vqriqblq=123"
   ]
  },
  {
   "cell_type": "markdown",
   "id": "e9162dc9-68d5-41b4-b116-1770e73b9253",
   "metadata": {},
   "source": [
    "## test\n",
    "\n",
    "- &\n"
   ]
  },
  {
   "cell_type": "code",
   "execution_count": null,
   "id": "77532c85-5952-4512-9087-d71b51cf4239",
   "metadata": {},
   "outputs": [],
   "source": [
    "#"
   ]
  }
 ],
 "metadata": {
  "kernelspec": {
   "display_name": "Python 3 (ipykernel)",
   "language": "python",
   "name": "python3"
  },
  "language_info": {
   "codemirror_mode": {
    "name": "ipython",
    "version": 3
   },
   "file_extension": ".py",
   "mimetype": "text/x-python",
   "name": "python",
   "nbconvert_exporter": "python",
   "pygments_lexer": "ipython3",
   "version": "3.9.12"
  }
 },
 "nbformat": 4,
 "nbformat_minor": 5
}
